{
 "cells": [
  {
   "cell_type": "code",
   "execution_count": 5,
   "metadata": {},
   "outputs": [
    {
     "name": "stdout",
     "output_type": "stream",
     "text": [
      "Enter a dollar amount and I will calulate total number of ways to give that change.\n",
      "Example: Enter amount $0.5\n",
      "Dollar amount entered: $0.5 \tTotal change combination: 50\n",
      " \n",
      "Enter a dollar amount and I will calulate total number of ways to give that change.\n",
      "Example: Enter amount $1\n",
      "Dollar amount entered: $1 \tTotal change combination: 293\n",
      " \n",
      "Enter any amount and I will calulate total combination of change or enter -1 to exit\n",
      "Enter amount $-1\n",
      "BYE\n"
     ]
    }
   ],
   "source": [
    "import sys\n",
    "from decimal import *\n",
    "\n",
    "def totalChangeCombination(amount):\n",
    "    NONE = \" \"\n",
    "    oneDollar = 1*100\n",
    "    fiveDollar = 5*100\n",
    "    tenDollar = 10*100\n",
    "    twentyDollar = 20*100\n",
    "    fiftyDollar = 50*100\n",
    "    hundredDollar = 100*100\n",
    "    moneyType = [1, 5, 10, 25, 50, oneDollar, fiveDollar, tenDollar, twentyDollar, fiftyDollar, hundredDollar]\n",
    "    combo = [0] * (amount + 1)\n",
    "    combo[0] = 1\n",
    "    for money in moneyType:\n",
    "        for i in range(money, amount + 1):\n",
    "            combo[i] += combo[i - money]\n",
    "    print(\"Dollar amount entered: $\" + str(saveAmountEnter),\"\\tTotal change combination:\", combo[amount])\n",
    "    return NONE\n",
    "    #return 'Dollar amount entered $', saveAmountEnter, 'has total change combination of', ways[amount]\n",
    "\n",
    "# 2 Examples are displayed below. \n",
    "default = 0.50\n",
    "default1 = 1\n",
    "\n",
    "print(\"Enter a dollar amount and I will calulate total number of ways to give that change.\")\n",
    "print(\"Example: Enter amount $\"+str(default))\n",
    "saveAmountEnter = default\n",
    "comboNumber = default * 100 # Multiplies it by 100 and change it to int to have it count total combinations.\n",
    "comboNumber = int(comboNumber) \n",
    "print(totalChangeCombination(comboNumber))\n",
    "\n",
    "print(\"Enter a dollar amount and I will calulate total number of ways to give that change.\")\n",
    "print(\"Example: Enter amount $\"+str(default1))\n",
    "saveAmountEnter = default1\n",
    "comboNumber = default1 * 100 # Multiplies it by 100 and change it to int to have it count total combinations.\n",
    "comboNumber = int(comboNumber) \n",
    "print(totalChangeCombination(comboNumber))\n",
    "comboNumber = 0\n",
    "\n",
    "while(comboNumber != -1):\n",
    "    if(comboNumber != -1):\n",
    "        print(\"Enter any amount and I will calulate total combination of change or enter -1 to exit\")\n",
    "        comboNumber = float(input(\"Enter amount $\")) # Takes any number as a float\n",
    "        saveAmountEnter = comboNumber\n",
    "        comboNumber = comboNumber * 100 # Multiplies it by 100 and change it to int to have it count total combinations.\n",
    "        comboNumber = int(comboNumber) \n",
    "        if(saveAmountEnter == -1):\n",
    "            print(\"BYE\")\n",
    "            break \n",
    "        else:\n",
    "            print(totalChangeCombination(comboNumber))"
   ]
  },
  {
   "cell_type": "code",
   "execution_count": null,
   "metadata": {},
   "outputs": [],
   "source": []
  },
  {
   "cell_type": "code",
   "execution_count": null,
   "metadata": {},
   "outputs": [],
   "source": []
  }
 ],
 "metadata": {
  "kernelspec": {
   "display_name": "Python 3",
   "language": "python",
   "name": "python3"
  },
  "language_info": {
   "codemirror_mode": {
    "name": "ipython",
    "version": 3
   },
   "file_extension": ".py",
   "mimetype": "text/x-python",
   "name": "python",
   "nbconvert_exporter": "python",
   "pygments_lexer": "ipython3",
   "version": "3.7.3"
  }
 },
 "nbformat": 4,
 "nbformat_minor": 2
}
