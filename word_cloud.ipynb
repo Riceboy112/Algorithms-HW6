{
 "cells": [
  {
   "cell_type": "code",
   "execution_count": 5,
   "metadata": {},
   "outputs": [
    {
     "name": "stdout",
     "output_type": "stream",
     "text": [
      "It sucessfully worked.\n"
     ]
    }
   ],
   "source": [
    "import matplotlib.pyplot as pPlot\n",
    "from wordcloud import WordCloud, STOPWORDS\n",
    "import numpy as npy\n",
    "from PIL import Image\n",
    "dataset = open(\"WordCloud.txt\", \"r\").read()\n",
    "def create_word_cloud(string):\n",
    "    maskArray = npy.array(Image.open(\"cloud.png\"))\n",
    "    cloud = WordCloud(background_color = \"white\", max_words = 200, mask = maskArray, stopwords = set(STOPWORDS))\n",
    "    cloud.generate(string)\n",
    "    cloud.to_file(\"Nick_Word_Cloud.png\")\n",
    "dataset = dataset.lower()\n",
    "create_word_cloud(dataset) \n",
    "print(\"It sucessfully worked.\") "
   ]
  },
  {
   "cell_type": "code",
   "execution_count": null,
   "metadata": {},
   "outputs": [],
   "source": []
  }
 ],
 "metadata": {
  "kernelspec": {
   "display_name": "Python 3",
   "language": "python",
   "name": "python3"
  },
  "language_info": {
   "codemirror_mode": {
    "name": "ipython",
    "version": 3
   },
   "file_extension": ".py",
   "mimetype": "text/x-python",
   "name": "python",
   "nbconvert_exporter": "python",
   "pygments_lexer": "ipython3",
   "version": "3.7.3"
  }
 },
 "nbformat": 4,
 "nbformat_minor": 2
}
